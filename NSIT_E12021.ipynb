{
 "cells": [
  {
   "cell_type": "markdown",
   "metadata": {},
   "source": [
    "<div style=\"width:100%;border-collapse:separate;border:solid 2px;border-radius:14px;\">\n",
    "    <div style=\"display:flex;\">\n",
    "        <div style=\"display:inline;width:5%;\"></div>\n",
    "        <div style=\"display:inline;width:15%;\">NSIT</div>\n",
    "        <div style=\"display:inline;width:15%;\">E1-2021</div>\n",
    "        <div style=\"display:inline;width:70%;text-align:right;\"><b>Evaluation</b></div>\n",
    "        <div style=\"display:inline;width:5%;\"></div>\n",
    "    </div>\n",
    "    <div  style=\"display: flex;background-color:#EEE\">\n",
    "        <p style=\"width:100%;text-align:center;\">Correction</p>\n",
    "    </div>\n",
    "    <div  style=\"display: flex;\">\n",
    "        <p style=\"width:100%;text-align:center;\">POO et gestion de bugs</p>\n",
    "    </div>\n",
    "</div>"
   ]
  },
  {
   "cell_type": "markdown",
   "metadata": {},
   "source": [
    "<div class = \"alert alert-success\">\n",
    "    \n",
    "**Objectifs de l'évaluation:** \n",
    "\n",
    "* Notions de première:    \n",
    "    - Types de variables\n",
    "    - Evaluer un programme\n",
    "    - Dictionnaires et listes\n",
    "    - Spécifications de fonction\n",
    "* Gestion de bugs\n",
    "    - Assertions\n",
    "* Programmation orientée objet\n",
    "    - Instanciation\n",
    "    - Attributs et méthodes\n",
    "    - Encapsulation\n",
    "</div>"
   ]
  },
  {
   "cell_type": "markdown",
   "metadata": {},
   "source": [
    "<div class = \"alert alert-info\">\n",
    "    \n",
    "**Sommaire :**\n",
    "- <a href=#Intro>Introduction</a> \n",
    "- <a href=#Q1>Représentation graphique des classes</a> \n",
    "- <a href=#Q2>Instanciations</a> \n",
    "- <a href=#Q3>Amélioration de la métuhode <code>acheter()</code></a> \n",
    "- <a href=#Q4>Amélioration de la métuhode <code>vendre()</code></a> \n",
    "- <a href=#QBonus>Bonus</a> \n",
    "- <a href=#Solution1>Première solution</a> \n",
    "- <a href=#Solution2>Solution plus complète</a> "
   ]
  },
  {
   "cell_type": "markdown",
   "metadata": {},
   "source": [
    "<div id=\"Intro\"></div>\n",
    "\n",
    "# Introduction"
   ]
  },
  {
   "cell_type": "markdown",
   "metadata": {},
   "source": [
    "![Magasins&Clients](https://raw.githubusercontent.com/ebuonocore/NSIT_E12021/main/NSIT-E1-illustration_intro.png?raw=true)\n",
    "<span style=\"font-family:Comic Sans MS; color:gray; font-size: x-small;float:right \">"
   ]
  },
  {
   "cell_type": "markdown",
   "metadata": {},
   "source": [
    "Nous souhaitons gérer les achats de différents clients dans des magasins.\n",
    "Chaque **client** est désigné par un <u>nom</u>. Il dispose d’une <u>somme</u> d’argent. Ses achats s’accumulent dans son <u>chariot</u>. Il faut mémoriser pour chaque article le nombre d’éléments.  \n",
    "Les **magasins** sont désignés par un <u>nom</u>. Chaque article disponible est référencé par un <u>nom</u>, le <u>nombre</u> d’éléments disponibles et le <u>prix unitaire</u>.\n",
    "\n",
    "On propose une première implémentation : "
   ]
  },
  {
   "cell_type": "code",
   "execution_count": null,
   "metadata": {},
   "outputs": [],
   "source": [
    "class Magasin:\n",
    "    def __init__(self, nom, produits):\n",
    "        self.nom = nom\n",
    "        self.stocks = produits\n",
    "\n",
    "    def vendre(self, produit, nombre):\n",
    "        ... # A faire (Question 4)\n",
    "        \n",
    "    def donner_prix(self, produit):\n",
    "        for dico in self.stocks:\n",
    "            if dico['désignation'] == produit:\n",
    "                return dico['prix']\n",
    "        return None\n",
    "\n",
    "class Client:\n",
    "    def __init__(self, nom, argent):\n",
    "        self.nom = nom\n",
    "        self.solde = argent\n",
    "        self.chariot = {}\n",
    "\n",
    "    def acheter(self, magasin, produit, nombre):\n",
    "        assert nombre >= 0, 'nombre est négatif.'\n",
    "        prix_unitaire = magasin.donner_prix(produit) \n",
    "        self.solde -= nombre * prix_unitaire\n",
    "        self.chariot[produit] = nombre"
   ]
  },
  {
   "cell_type": "markdown",
   "metadata": {},
   "source": [
    "La méthode vendre() sera réalisée plus tard. Elle met à jour le stocks suite à la vente de nombre produits. Elle renvoie le nombre de ventes réalisées .\n",
    "\n",
    "<div id=\"Q1\"></div>\n",
    "\n",
    "# Question 1: Représentation graphique des classes\n",
    "Proposez une représentation graphique de ces deux classes :\n",
    "\n",
    "<a href=\"https://raw.githubusercontent.com/ebuonocore/NSIT_E12021/main/NSIT-E1_Q1_representation_classes.png?raw=true\">Voir la réponse</a>"
   ]
  },
  {
   "cell_type": "markdown",
   "metadata": {},
   "source": [
    "<div id=\"Q2\"></div>\n",
    "\n",
    "# Question 2: Instanciations\n",
    "Quel est le type de l’attribut solde de la classe Client ? \n"
   ]
  },
  {
   "cell_type": "markdown",
   "metadata": {},
   "source": [
    "<details style=\"details[open] summary::-webkit-details-marker { color:#eaeaea; background:#f7f7f7; outline: 1px\n",
    "solid #ADCA48;}\">\n",
    "<summary style=\"summary::-webkit-details-marker { color:#ADCA48; background:#e2ecda;} \">\n",
    "    &#x1F511; Réponses</summary>\n",
    "    float<br>\n",
    "    Un entier (int) ne permettrait pas de manipuler des valeurs décimales (52,55€ par exemple)\n",
    "</details>"
   ]
  },
  {
   "cell_type": "markdown",
   "metadata": {},
   "source": [
    "Comment faut-il instancier le client « Lucie » qui a un porte-monnaie de 500.00€ ?"
   ]
  },
  {
   "cell_type": "markdown",
   "metadata": {},
   "source": [
    "<details style=\"details[open] summary::-webkit-details-marker { color:#eaeaea; background:#f7f7f7; outline: 1px\n",
    "solid #ADCA48;}\">\n",
    "<summary style=\"summary::-webkit-details-marker { color:#ADCA48; background:#e2ecda;} \">\n",
    "    &#x1F511; Réponses</summary>\n",
    "    lucie = Client(\"Lucie\", 500.0)\n",
    "</details>"
   ]
  },
  {
   "cell_type": "markdown",
   "metadata": {},
   "source": [
    "On instancie le magasin karouf ainsi :"
   ]
  },
  {
   "cell_type": "code",
   "execution_count": null,
   "metadata": {},
   "outputs": [],
   "source": [
    "stocks_de_karouf = [\n",
    "        {'désignation':'radio-réveil', 'nombre':10, 'prix':25.0},\n",
    "        {'désignation':'cahier', 'nombre':200, 'prix':3.0},\n",
    "        {'désignation':'yaourt', 'nombre':500, 'prix':0.5}]\n",
    "karouf = Magasin(\"Karouf\", stocks_de_karouf)"
   ]
  },
  {
   "cell_type": "markdown",
   "metadata": {},
   "source": [
    "Que renvoient les expressions suivantes :"
   ]
  },
  {
   "cell_type": "code",
   "execution_count": null,
   "metadata": {},
   "outputs": [],
   "source": [
    "len(karouf.stocks)"
   ]
  },
  {
   "cell_type": "code",
   "execution_count": null,
   "metadata": {},
   "outputs": [],
   "source": [
    "karouf.stocks[1].keys()"
   ]
  },
  {
   "cell_type": "markdown",
   "metadata": {},
   "source": [
    "<details style=\"details[open] summary::-webkit-details-marker { color:#eaeaea; background:#f7f7f7; outline: 1px\n",
    "solid #ADCA48;}\">\n",
    "<summary style=\"summary::-webkit-details-marker { color:#ADCA48; background:#e2ecda;} \">\n",
    "    &#x1F4A1; Remarque</summary>\n",
    "    <code>['désignation', 'nombre', 'prix']</code> est une solution acceptable à l'écrit.\n",
    "</details>"
   ]
  },
  {
   "cell_type": "code",
   "execution_count": null,
   "metadata": {},
   "outputs": [],
   "source": [
    "karouf.stocks[1]['désignation']"
   ]
  },
  {
   "cell_type": "code",
   "execution_count": null,
   "metadata": {},
   "outputs": [],
   "source": [
    "karouf.stocks[1].items()"
   ]
  },
  {
   "cell_type": "code",
   "execution_count": null,
   "metadata": {},
   "outputs": [],
   "source": [
    "karouf.donner_prix('radio-réveil')"
   ]
  },
  {
   "cell_type": "code",
   "execution_count": null,
   "metadata": {},
   "outputs": [],
   "source": [
    "karouf.donner_prix('Voiture Oui Oui rouge et jaune')"
   ]
  },
  {
   "cell_type": "markdown",
   "metadata": {},
   "source": [
    "<details style=\"details[open] summary::-webkit-details-marker { color:#eaeaea; background:#f7f7f7; outline: 1px\n",
    "solid #ADCA48;}\">\n",
    "<summary style=\"summary::-webkit-details-marker { color:#ADCA48; background:#e2ecda;} \">\n",
    "    &#x1F4A1; Remarque</summary>\n",
    "    Notez que cette instruction n'affiche rien à l'écran, mais si vous tapez:<br>\n",
    "    <code>print(karouf.donner_prix('Voiture Oui Oui rouge et jaune')</code><br>\n",
    "    Il affiche <code>None</code>\n",
    "</details>"
   ]
  },
  {
   "cell_type": "markdown",
   "metadata": {},
   "source": [
    "Quelle instruction permet d’ajouter 100.0€ au solde de Lucie ? "
   ]
  },
  {
   "cell_type": "markdown",
   "metadata": {},
   "source": [
    "<details style=\"details[open] summary::-webkit-details-marker { color:#eaeaea; background:#f7f7f7; outline: 1px\n",
    "solid #ADCA48;}\">\n",
    "<summary style=\"summary::-webkit-details-marker { color:#ADCA48; background:#e2ecda;} \">\n",
    "    &#x1F511; Réponses</summary>\n",
    "    lucie.solde += 100.0\n",
    "</details>"
   ]
  },
  {
   "cell_type": "markdown",
   "metadata": {},
   "source": [
    "Si les variables ali et boby sont aussi des instances de la classe Client, comment désigne-t-on la liste <code>[ali, billy, lucie]</code> ?"
   ]
  },
  {
   "cell_type": "markdown",
   "metadata": {},
   "source": [
    "<details style=\"details[open] summary::-webkit-details-marker { color:#eaeaea; background:#f7f7f7; outline: 1px\n",
    "solid #ADCA48;}\">\n",
    "<summary style=\"summary::-webkit-details-marker { color:#ADCA48; background:#e2ecda;} \">\n",
    "    &#x1F511; Réponses</summary>\n",
    "    C'est un agrégateur.\n",
    "</details>"
   ]
  },
  {
   "cell_type": "markdown",
   "metadata": {},
   "source": [
    "Un nouveau magasin Fourak ouvre avec exactement les mêmes articles et les mêmes stocks que le magasin karouf. Pourquoi est-ce une mauvaise idée de l’instancier ainsi ?\n",
    "<code>fourak = Magasin(\"Fourak\", stocks_de_karouf)</code>"
   ]
  },
  {
   "cell_type": "markdown",
   "metadata": {},
   "source": [
    "<details style=\"details[open] summary::-webkit-details-marker { color:#eaeaea; background:#f7f7f7; outline: 1px\n",
    "solid #ADCA48;}\">\n",
    "<summary style=\"summary::-webkit-details-marker { color:#ADCA48; background:#e2ecda;} \">\n",
    "    &#x1F511; Réponses</summary>\n",
    "    Les stocks des deux magasins désignent le même objet.\n",
    "</details>"
   ]
  },
  {
   "cell_type": "markdown",
   "metadata": {},
   "source": [
    "Que va-t-il se passer dès qu’une modification va être apportée au stock du magasin Karouf ?"
   ]
  },
  {
   "cell_type": "markdown",
   "metadata": {},
   "source": [
    "<details style=\"details[open] summary::-webkit-details-marker { color:#eaeaea; background:#f7f7f7; outline: 1px\n",
    "solid #ADCA48;}\">\n",
    "<summary style=\"summary::-webkit-details-marker { color:#ADCA48; background:#e2ecda;} \">\n",
    "    &#x1F511; Réponses</summary>\n",
    "    Les mêmes modifications vont être apportées au magasin Fourak.<br>\n",
    "</details>"
   ]
  },
  {
   "cell_type": "markdown",
   "metadata": {},
   "source": [
    "<u>Remarque:</u> Une simple copie de la liste ne suffirait pas  \n",
    "<code>stocks_de_fourak = stocks_de_karouf.copy()</code>  \n",
    "Deux listes distinctes sont ainsi bien créées mais les dictionnaires à l'intérieur restent communs!\n",
    "\n",
    "![Copie_de_liste](https://raw.githubusercontent.com/ebuonocore/NSIT_E12021/main/NSIT-E1-illustration_copie_de_liste.png?raw=true)"
   ]
  },
  {
   "cell_type": "markdown",
   "metadata": {},
   "source": [
    "Il faut faire une \"<a href=\"https://docs.python.org/fr/3/library/copy.html\">Copie profonde</a>\" (Ou copie récursive):"
   ]
  },
  {
   "cell_type": "code",
   "execution_count": null,
   "metadata": {},
   "outputs": [],
   "source": [
    "import copy\n",
    "stocks_de_fourak = copy.deepcopy(stocks_de_karouf)"
   ]
  },
  {
   "cell_type": "markdown",
   "metadata": {},
   "source": [
    "Voir le résultat sur <a href=\"https://pythontutor.com/visualize.html#code=import%20copy%0A%0Astocks_de_karouf%20%3D%20%5B%0A%20%20%20%20%20%20%20%20%20%7B'd%C3%A9signation'%3A'radio-r%C3%A9veil',%20'nombre'%3A10,%20'prix'%3A25.0%7D,%0A%20%20%20%20%20%20%20%20%20%7B'd%C3%A9signation'%3A'cahier',%20'nombre'%3A200,%20'prix'%3A3.0%7D,%0A%20%20%20%20%20%20%20%20%20%7B'd%C3%A9signation'%3A'yaourt',%20'nombre'%3A500,%20'prix'%3A0.5%7D%5D%0A%0Astocks_de_fourak%20%3D%20copy.deepcopy%28stocks_de_karouf%29&cumulative=false&curInstr=5&heapPrimitives=nevernest&mode=display&origin=opt-frontend.js&py=3&rawInputLstJSON=%5B%5D&textReferences=false\">PythonTutor</a>"
   ]
  },
  {
   "cell_type": "markdown",
   "metadata": {},
   "source": [
    "<div id=\"Q3\"></div>\n",
    "\n",
    "# Question 3: Amélioration de la méthode <code>acheter()</code>\n",
    "Le programme ci-dessous apporte quelques améliorations à la méthode <code>acheter()</code> :"
   ]
  },
  {
   "cell_type": "code",
   "execution_count": null,
   "metadata": {},
   "outputs": [],
   "source": [
    "def acheter(self, magasin, produit, nombre):\n",
    "        assert nombre >0, 'nombre doit être positif'\n",
    "        prix_unitaire = magasin.donner_prix(produit)\n",
    "        nombre_max = min(nombre, self.solde // prix_unitaire)        \n",
    "        nombre_vendus = magasin.vendre(produit, nombre_max)\n",
    "        self.solde -= nombre_vendus * prix_unitaire\n",
    "        if produit in self.chariot.keys():\n",
    "            self.chariot[produit] += nombre_vendus\n",
    "        else:\n",
    "            self.chariot[produit] = nombre_vendus"
   ]
  },
  {
   "attachments": {},
   "cell_type": "markdown",
   "metadata": {},
   "source": [
    "Nous allons en étudier le comportement. Pour répondre aux questions, tenez compte des valeurs données au début de la question 2. (Lucie a 500.00€)  \n",
    "On considère que la méthode vendre() est correctement programmée (voir dans le tableau ci-dessous, précisez les valeurs que vont prendre les variables au cours de l’appel de :  \n",
    "<code>lucie.acheter(karouf, 'radio-réveil', 30)</code>\n",
    "\n",
    "![Tableau_vide](https://raw.githubusercontent.com/ebuonocore/NSIT_E12021/main/NSIT-E1_Q3_tableau_vide.png?raw=true)\n",
    "\n",
    "<a href=\"https://raw.githubusercontent.com/ebuonocore/NSIT_E12021/main/NSIT-E1_Q3_tableau_complet.png\">Voir les réponses<a>"
   ]
  },
  {
   "cell_type": "markdown",
   "metadata": {},
   "source": [
    "Pour quelles valeurs de prix_unitaire la méthode va-t-elle planter ?"
   ]
  },
  {
   "cell_type": "markdown",
   "metadata": {},
   "source": [
    "<details style=\"details[open] summary::-webkit-details-marker { color:#eaeaea; background:#f7f7f7; outline: 1px\n",
    "solid #ADCA48;}\">\n",
    "<summary style=\"summary::-webkit-details-marker { color:#ADCA48; background:#e2ecda;} \">\n",
    "    &#x1F511; Réponses</summary>\n",
    "    Pour 0 (Le produit a un prix nul) et None (Le produit n'existe pas)<br>\n",
    "    Dans ces deux cas, la ligne <code>nombre_max = min(nombre, self.solde // prix_unitaire) </code> dans la méthode acheter() va poser problème.<br>\n",
    "    Elle renvoie les messages d'erreurs respectifs: <b>ZeroDivisionError</b> ou <b>TypeError</b> (unsupported operand type(s) for //: 'int' and 'NoneType')\n",
    "</details>"
   ]
  },
  {
   "cell_type": "markdown",
   "metadata": {},
   "source": [
    "<div id=\"Q4\"></div>\n",
    "\n",
    "# Question 4:  Réécriture de la méthode <code>vendre()</code>\n",
    "\n",
    "Réécrire la méthode <code>vendre()</code> de la classe Magasin avec des spécifications et les assertions nécessaires.(produit doit être une chaîne de caractères)  \n",
    "La méthode modifie le stock en fonction du nombre de produits vendus et renvoie le nombre de ventes réalisées.   \n",
    "Remarque : On ne peut pas vendre plus de produits que ceux présents dans le stock !\n",
    "Par exemple :  <code>karouf.vendre('radio-réveil',40)</code> renvoie 10 et le nouveau stock passe à 0."
   ]
  },
  {
   "cell_type": "code",
   "execution_count": null,
   "metadata": {},
   "outputs": [],
   "source": [
    "class Magasin:\n",
    "    def vendre(self, produit, nombre):\n",
    "        ... # A faire "
   ]
  },
  {
   "cell_type": "markdown",
   "metadata": {},
   "source": [
    "Voir les réponses plus bas."
   ]
  },
  {
   "cell_type": "markdown",
   "metadata": {},
   "source": [
    "<div id=\"QBonus\"></div>\n",
    "\n",
    "# Question Bonus:\n",
    "Proposer une méthode <code>afficher()</code> à la classe Client qui permette d’afficher le nom, le solde restant ainsi que le nom et le nombre de chaque produit acheté."
   ]
  },
  {
   "cell_type": "code",
   "execution_count": null,
   "metadata": {},
   "outputs": [],
   "source": [
    "class Client:\n",
    "    def afficher(...):\n",
    "        ..."
   ]
  },
  {
   "cell_type": "markdown",
   "metadata": {},
   "source": [
    "Voir les réponses plus bas."
   ]
  },
  {
   "cell_type": "markdown",
   "metadata": {},
   "source": [
    "<div id=\"Solution1\"></div>\n",
    "\n",
    "# Première solution :"
   ]
  },
  {
   "cell_type": "code",
   "execution_count": null,
   "metadata": {},
   "outputs": [],
   "source": [
    "class Magasin:\n",
    "    def __init__(self, nom, produits):\n",
    "        self.nom = nom\n",
    "        self.stocks = produits\n",
    "\n",
    "    def vendre(self, produit, nombre):\n",
    "        for dico in self.stocks: # Recherche le produit dans la liste\n",
    "            if dico['désignation'] == produit:\n",
    "                if nombre <= dico['nombre']: # Si il y a suffisamment de produits en stocks\n",
    "                    dico['nombre'] -= nombre\n",
    "                    return nombre\n",
    "                else: # Sinon, nous sommes limités par le stock\n",
    "                    nombre_vendu = dico['nombre']\n",
    "                    dico['nombre'] = 0\n",
    "                    return nombre_vendu\n",
    "        return 0 # Le produit n'a pas été trouvé. Renvoie donc 0 (aucune vente)\n",
    "        \n",
    "    def donner_prix(self, produit):\n",
    "        for dico in self.stocks:\n",
    "            if dico['désignation'] == produit:\n",
    "                return dico['prix']\n",
    "        return None\n",
    "            \n",
    "    def afficher(self):\n",
    "        print(\"Etat des stocks de \", self.nom)\n",
    "        for dico in self.stocks:\n",
    "            print(dico['nombre'], dico['désignation'], 'à', dico['prix'], '€')\n",
    "        print()\n",
    "\n",
    "class Client:\n",
    "    def __init__(self, nom, argent):\n",
    "        self.nom = nom\n",
    "        self.solde = argent\n",
    "        self.chariot = {}\n",
    "\n",
    "    def acheter(self, magasin, produit, nombre):\n",
    "        assert nombre >0, 'nombre doit être positif'\n",
    "        prix_unitaire = magasin.donner_prix(produit)\n",
    "        nombre_max = min(nombre, self.solde // prix_unitaire)        \n",
    "        nombre_vendus = magasin.vendre(produit, nombre_max)\n",
    "        self.solde -= nombre_vendus * prix_unitaire\n",
    "        if produit in self.chariot.keys():\n",
    "            self.chariot[produit] += nombre_vendus\n",
    "        else:\n",
    "            self.chariot[produit] = nombre_vendus\n",
    "        \n",
    "    def afficher(self):\n",
    "        print(\"Fiche client : \", self.nom)\n",
    "        print(\"    solde : \", self.solde)\n",
    "        print(\"    chariot : \", end=\"\")\n",
    "        prefixe = ''\n",
    "        for produit, nombre in self.chariot.items():\n",
    "            print(prefixe, nombre, produit, end=\"\")\n",
    "            prefixe = ','\n",
    "        print()\n",
    "        print()\n",
    "\n",
    "stock1 = [\n",
    "         {'désignation':'radio-réveil', 'nombre':20, 'prix':25},\n",
    "         {'désignation':'cahier', 'nombre':200, 'prix':3},\n",
    "         {'désignation':'yaourt', 'nombre':500, 'prix':1}]\n",
    "karouf = Magasin(\"Karouf\", stock1)\n",
    "stock2 = [\n",
    "         {'désignation':'TV', 'nombre':100, 'prix':2500},\n",
    "         {'désignation':'PC_gamer', 'nombre':20, 'prix':8000},\n",
    "         {'désignation':'écouteurs', 'nombre':400, 'prix':10}]\n",
    "kefna = Magasin(\"La Kefna\", stock2)\n",
    "karouf.afficher()\n",
    "kefna.afficher()\n",
    "lucie = Client(\"Lucie\", 510)\n",
    "lucie.afficher()\n",
    "lucie.acheter(karouf, 'cahier', 100)\n",
    "lucie.afficher()\n",
    "lucie.acheter(kefna, 'écouteurs', 2)\n",
    "lucie.afficher()\n",
    "lucie.acheter(karouf, 'radio-réveil', 20)\n",
    "karouf.afficher()\n",
    "kefna.afficher()\n",
    "lucie.afficher()"
   ]
  },
  {
   "cell_type": "markdown",
   "metadata": {},
   "source": [
    "<div id=\"Solution1\"></div>\n",
    "\n",
    "# Solution plus complète:"
   ]
  },
  {
   "cell_type": "code",
   "execution_count": null,
   "metadata": {},
   "outputs": [],
   "source": [
    "class Magasin:\n",
    "    \"\"\" Classe Magasin\n",
    "        Attributs privés: self.__nom, self.__stocks\n",
    "        Méthodes publiques: self.vendre(), self.donner_prix()\n",
    "    \"\"\"\n",
    "    def __init__(self, nom, tableau_produits):\n",
    "        assert len(nom) != 0, \"Le nom du magasin ne doit pas être vide\"\n",
    "        self.__nom = nom\n",
    "        self.__stocks = tableau_produits\n",
    "\n",
    "    def vendre(self, produit, nombre):\n",
    "        \"\"\" Prend en paramètre le nom du produit et le nombre d'articles souhaités\n",
    "            Calcul le nombre d'articles qui peuvent être vendus dans la limite du stock\n",
    "            Décrémente d'autant le nombre d'articles disponibles\n",
    "            et renvoie le nombre d'article vendus.\n",
    "        \"\"\"\n",
    "        for dico in self.__stocks: # Recherche le produit dans la liste\n",
    "            if dico['désignation'] == produit:\n",
    "                if nombre <= dico['nombre']: # Si il y a suffisamment de produits en stocks\n",
    "                    dico['nombre'] -= nombre\n",
    "                    return nombre\n",
    "                else: # Sinon, nous sommes limités par le stock\n",
    "                    nombre_vendu = dico['nombre']\n",
    "                    dico['nombre'] = 0\n",
    "                    return nombre_vendu\n",
    "        return 0 # Le produit n'a pas été trouvé. Renvoie donc 0 (aucune vente)\n",
    "\n",
    "    def donner_prix(self, produit):\n",
    "        \"\"\" Renvoie le prix du produit passé en paramètre\n",
    "            Si le produit n'existe pas, renvoie None\n",
    "        \"\"\"\n",
    "        for dico in self.__stocks: # Recherche le produit dans la liste\n",
    "            if dico['désignation'] == produit:\n",
    "                return dico['prix']\n",
    "        return None # Le produit n'a pas été trouvé. Renvoie None\n",
    "            \n",
    "    def __str__(self):\n",
    "        description = \"Etat des stocks de \" + self.__nom + '\\n'\n",
    "        for dico in self.__stocks:\n",
    "            description += '    '+ str(dico['nombre']) + ' ' + dico['désignation'] + ' à ' + str(dico['prix']) + '€\\n'\n",
    "        return description + '\\n'\n",
    "\n",
    "class Client:\n",
    "    \"\"\" Classe Client\n",
    "        Attributs privés: self.__nom, self.__solde, self.__chariot\n",
    "        Méthode publique: self.acheter()\n",
    "    \"\"\"\n",
    "    def __init__(self, nom, argent):\n",
    "        self.__nom = nom\n",
    "        assert argent >= 0 , \"Un client ne peut pas être créé à découvert\"\n",
    "        self.__solde = argent\n",
    "        self.__chariot = {}\n",
    "\n",
    "    def acheter(self, magasin, produit, nombre):\n",
    "        \"\"\" Prend en paramètres le nom du magasin fournisseur, le nom du produit\n",
    "            et le nombre de produits souhaités\n",
    "            Ajoute au chariot le nombre de produits achetés dans la limite du solde\n",
    "            du compte et de la disponibilité des articles en rayon\n",
    "            Soustrait la somme nécessaire à l'achat au solde du compte\n",
    "        \"\"\"\n",
    "        prix_unitaire = magasin.donner_prix(produit)\n",
    "        # Attention, ici, nous n'avons pas testé si le prix_unitaire renvoyé vaut 0 ou None!\n",
    "        nombre_max = min(nombre, self.__solde // prix_unitaire)        \n",
    "        nombre_vendus = magasin.vendre(produit, nombre_max)\n",
    "        self.__solde -= nombre_vendus * prix_unitaire\n",
    "        if produit in self.__chariot.keys():\n",
    "            self.__chariot[produit] += nombre_vendus\n",
    "        else:\n",
    "            self.__chariot[produit] = nombre_vendus\n",
    "\n",
    "    def __str__(self):\n",
    "        description = \"Fiche client : \"+ self.__nom +'\\n'\n",
    "        description += \"    solde : \" + str(self.__solde) +'\\n'\n",
    "        description += \"    chariot : \"\n",
    "        prefixe = ''\n",
    "        for produit, nombre in self.__chariot.items():\n",
    "            description += prefixe + str(nombre) + ' ' + produit + ' '\n",
    "            prefixe = ','\n",
    "        return description + '\\n' + '\\n'\n",
    "\n",
    "if __name__ == \"__main__\":\n",
    "    stock1 = [\n",
    "             {'désignation':'radio-réveil', 'nombre':20, 'prix':25},\n",
    "             {'désignation':'cahier', 'nombre':200, 'prix':3},\n",
    "             {'désignation':'yaourt', 'nombre':500, 'prix':1}]\n",
    "    karouf = Magasin(\"Karouf\", stock1)\n",
    "    stock2 = [\n",
    "             {'désignation':'TV', 'nombre':100, 'prix':2500},\n",
    "             {'désignation':'PC_gamer', 'nombre':20, 'prix':8000},\n",
    "             {'désignation':'écouteurs', 'nombre':400, 'prix':10}]\n",
    "    kefna = Magasin(\"La Kefna\", stock2)\n",
    "    print(karouf)\n",
    "    print(kefna)\n",
    "    lucie = Client(\"Lucie\", 510)\n",
    "    print(lucie)\n",
    "    lucie.acheter(karouf, 'cahier', 100)\n",
    "    print(lucie)\n",
    "    lucie.acheter(kefna, 'écouteurs', 2)\n",
    "    print(lucie)\n",
    "    lucie.acheter(karouf, 'radio-réveil', 20)\n",
    "    print(karouf)\n",
    "    print(kefna)\n",
    "    lucie.solde = -100\n",
    "    print(lucie)"
   ]
  },
  {
   "cell_type": "markdown",
   "metadata": {},
   "source": [
    "---\n",
    "<p style=\"font-family:Comic Sans MS; text-align: center; color:gray; font-size: x-small; \">- Eric Buonocore. septembre 2021 -<br></p>\n",
    "\n",
    "![Licence CC BY NC SA](https://licensebuttons.net/l/by-nc-sa/3.0/88x31.png)"
   ]
  }
 ],
 "metadata": {
  "kernelspec": {
   "display_name": "Python 3",
   "language": "python",
   "name": "python3"
  },
  "language_info": {
   "codemirror_mode": {
    "name": "ipython",
    "version": 3
   },
   "file_extension": ".py",
   "mimetype": "text/x-python",
   "name": "python",
   "nbconvert_exporter": "python",
   "pygments_lexer": "ipython3",
   "version": "3.6.9"
  }
 },
 "nbformat": 4,
 "nbformat_minor": 1
}
